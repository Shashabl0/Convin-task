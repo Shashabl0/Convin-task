{
 "cells": [
  {
   "cell_type": "code",
   "execution_count": null,
   "source": [
    "import os\r\n",
    "import re\r\n",
    "\r\n",
    "import pandas as pd\r\n"
   ],
   "outputs": [],
   "metadata": {}
  },
  {
   "cell_type": "code",
   "execution_count": 313,
   "source": [
    "file = open(\"text.txt\", \"r\")\r\n",
    "sentences = file.readlines()\r\n",
    "sentences = [sentence.strip() for sentence in sentences]\r\n",
    "\r\n",
    "df = pd.DataFrame(sentences, columns=['sentence'])\r\n"
   ],
   "outputs": [],
   "metadata": {}
  },
  {
   "cell_type": "code",
   "execution_count": 314,
   "source": [
    "df.head()"
   ],
   "outputs": [
    {
     "output_type": "execute_result",
     "data": {
      "text/html": [
       "<div>\n",
       "<style scoped>\n",
       "    .dataframe tbody tr th:only-of-type {\n",
       "        vertical-align: middle;\n",
       "    }\n",
       "\n",
       "    .dataframe tbody tr th {\n",
       "        vertical-align: top;\n",
       "    }\n",
       "\n",
       "    .dataframe thead th {\n",
       "        text-align: right;\n",
       "    }\n",
       "</style>\n",
       "<table border=\"1\" class=\"dataframe\">\n",
       "  <thead>\n",
       "    <tr style=\"text-align: right;\">\n",
       "      <th></th>\n",
       "      <th>sentence</th>\n",
       "    </tr>\n",
       "  </thead>\n",
       "  <tbody>\n",
       "    <tr>\n",
       "      <th>0</th>\n",
       "      <td>hindi movies for adults</td>\n",
       "    </tr>\n",
       "    <tr>\n",
       "      <th>1</th>\n",
       "      <td>are panda dogs real</td>\n",
       "    </tr>\n",
       "    <tr>\n",
       "      <th>2</th>\n",
       "      <td>asuedraw winning numbers</td>\n",
       "    </tr>\n",
       "    <tr>\n",
       "      <th>3</th>\n",
       "      <td>sentry replacement keys</td>\n",
       "    </tr>\n",
       "    <tr>\n",
       "      <th>4</th>\n",
       "      <td>rebuilding nicad battery packs</td>\n",
       "    </tr>\n",
       "  </tbody>\n",
       "</table>\n",
       "</div>"
      ],
      "text/plain": [
       "                         sentence\n",
       "0         hindi movies for adults\n",
       "1             are panda dogs real\n",
       "2        asuedraw winning numbers\n",
       "3         sentry replacement keys\n",
       "4  rebuilding nicad battery packs"
      ]
     },
     "metadata": {},
     "execution_count": 314
    }
   ],
   "metadata": {}
  },
  {
   "cell_type": "code",
   "execution_count": 315,
   "source": [
    "Q_WORD = ['what', 'where','when','why','who','how']\r\n",
    "QQ_WORD = ['if','were','was','am','is','are','has','have','can','could','will','would','shall','should','do','does']\r\n",
    "def detect_inquiry(sentences):\r\n",
    "    result = []\r\n",
    "    for sentence in sentences:\r\n",
    "        flag = 0\r\n",
    "        if(sentence[-1] == '?'):\r\n",
    "            result.append(1)\r\n",
    "            continue\r\n",
    "        else:\r\n",
    "            for word in Q_WORD:\r\n",
    "                if(word in sentence.split(' ')):\r\n",
    "                    result.append(1)\r\n",
    "                    flag = 1\r\n",
    "                    break\r\n",
    "            \r\n",
    "            for word in QQ_WORD:\r\n",
    "                if(word == sentence.split(' ')[0]):\r\n",
    "                    result.append(1)\r\n",
    "                    flag = 1\r\n",
    "                    break\r\n",
    "            if(flag != 1):\r\n",
    "                result.append(0)\r\n",
    "            \r\n",
    "    return result"
   ],
   "outputs": [],
   "metadata": {}
  },
  {
   "cell_type": "code",
   "execution_count": 316,
   "source": [
    "result = detect_inquiry(sentences)\r\n",
    "# print(result)"
   ],
   "outputs": [],
   "metadata": {}
  },
  {
   "cell_type": "code",
   "execution_count": 317,
   "source": [
    "# res = pd.DataFrame(result, columns=['q'])\r\n",
    "\r\n",
    "df['type'] = result\r\n",
    "\r\n",
    "print(df.head())\r\n"
   ],
   "outputs": [
    {
     "output_type": "stream",
     "name": "stdout",
     "text": [
      "                         sentence  type\n",
      "0         hindi movies for adults     0\n",
      "1             are panda dogs real     1\n",
      "2        asuedraw winning numbers     0\n",
      "3         sentry replacement keys     0\n",
      "4  rebuilding nicad battery packs     0\n"
     ]
    }
   ],
   "metadata": {}
  },
  {
   "cell_type": "code",
   "execution_count": 319,
   "source": [
    "df[df['type'] == 1].count()"
   ],
   "outputs": [
    {
     "output_type": "execute_result",
     "data": {
      "text/plain": [
       "sentence    1004\n",
       "type        1004\n",
       "dtype: int64"
      ]
     },
     "metadata": {},
     "execution_count": 319
    }
   ],
   "metadata": {}
  },
  {
   "cell_type": "code",
   "execution_count": 310,
   "source": [
    "df['type'] = ['yes' if x == 1 else 'no' for x in df['type']]"
   ],
   "outputs": [],
   "metadata": {}
  },
  {
   "cell_type": "code",
   "execution_count": null,
   "source": [
    "df[df['q'] == 'yes']"
   ],
   "outputs": [],
   "metadata": {}
  },
  {
   "cell_type": "code",
   "execution_count": null,
   "source": [
    "df.to_csv('check.csv')"
   ],
   "outputs": [],
   "metadata": {}
  },
  {
   "cell_type": "code",
   "execution_count": 311,
   "source": [
    "df"
   ],
   "outputs": [
    {
     "output_type": "execute_result",
     "data": {
      "text/html": [
       "<div>\n",
       "<style scoped>\n",
       "    .dataframe tbody tr th:only-of-type {\n",
       "        vertical-align: middle;\n",
       "    }\n",
       "\n",
       "    .dataframe tbody tr th {\n",
       "        vertical-align: top;\n",
       "    }\n",
       "\n",
       "    .dataframe thead th {\n",
       "        text-align: right;\n",
       "    }\n",
       "</style>\n",
       "<table border=\"1\" class=\"dataframe\">\n",
       "  <thead>\n",
       "    <tr style=\"text-align: right;\">\n",
       "      <th></th>\n",
       "      <th>sentence</th>\n",
       "      <th>type</th>\n",
       "    </tr>\n",
       "  </thead>\n",
       "  <tbody>\n",
       "    <tr>\n",
       "      <th>0</th>\n",
       "      <td>hindi movies for adults</td>\n",
       "      <td>no</td>\n",
       "    </tr>\n",
       "    <tr>\n",
       "      <th>1</th>\n",
       "      <td>are panda dogs real</td>\n",
       "      <td>yes</td>\n",
       "    </tr>\n",
       "    <tr>\n",
       "      <th>2</th>\n",
       "      <td>asuedraw winning numbers</td>\n",
       "      <td>no</td>\n",
       "    </tr>\n",
       "    <tr>\n",
       "      <th>3</th>\n",
       "      <td>sentry replacement keys</td>\n",
       "      <td>no</td>\n",
       "    </tr>\n",
       "    <tr>\n",
       "      <th>4</th>\n",
       "      <td>rebuilding nicad battery packs</td>\n",
       "      <td>no</td>\n",
       "    </tr>\n",
       "    <tr>\n",
       "      <th>...</th>\n",
       "      <td>...</td>\n",
       "      <td>...</td>\n",
       "    </tr>\n",
       "    <tr>\n",
       "      <th>9988</th>\n",
       "      <td>sjogren syndrome pictures</td>\n",
       "      <td>no</td>\n",
       "    </tr>\n",
       "    <tr>\n",
       "      <th>9989</th>\n",
       "      <td>how do you renew a passport</td>\n",
       "      <td>yes</td>\n",
       "    </tr>\n",
       "    <tr>\n",
       "      <th>9990</th>\n",
       "      <td>medellin dim</td>\n",
       "      <td>no</td>\n",
       "    </tr>\n",
       "    <tr>\n",
       "      <th>9991</th>\n",
       "      <td>concursos funcab</td>\n",
       "      <td>no</td>\n",
       "    </tr>\n",
       "    <tr>\n",
       "      <th>9992</th>\n",
       "      <td>jogo de cidades</td>\n",
       "      <td>no</td>\n",
       "    </tr>\n",
       "  </tbody>\n",
       "</table>\n",
       "<p>9993 rows × 2 columns</p>\n",
       "</div>"
      ],
      "text/plain": [
       "                            sentence type\n",
       "0            hindi movies for adults   no\n",
       "1                are panda dogs real  yes\n",
       "2           asuedraw winning numbers   no\n",
       "3            sentry replacement keys   no\n",
       "4     rebuilding nicad battery packs   no\n",
       "...                              ...  ...\n",
       "9988       sjogren syndrome pictures   no\n",
       "9989     how do you renew a passport  yes\n",
       "9990                    medellin dim   no\n",
       "9991                concursos funcab   no\n",
       "9992                 jogo de cidades   no\n",
       "\n",
       "[9993 rows x 2 columns]"
      ]
     },
     "metadata": {},
     "execution_count": 311
    }
   ],
   "metadata": {}
  },
  {
   "cell_type": "markdown",
   "source": [
    "import nltk\r\n",
    "nltk.download('nps_chat')\r\n",
    "posts = nltk.corpus.nps_chat.xml_posts()[:10000]\r\n",
    "\r\n",
    "\r\n",
    "def dialogue_act_features(post):\r\n",
    "    features = {}\r\n",
    "    for word in nltk.word_tokenize(post):\r\n",
    "        features['contains({})'.format(word.lower())] = True\r\n",
    "    return features\r\n",
    "\r\n",
    "featuresets = [(dialogue_act_features(post.text), post.get('class')) for post in posts]\r\n",
    "size = int(len(featuresets) * 0.1)\r\n",
    "train_set, test_set = featuresets[size:], featuresets[:size]\r\n",
    "classifier = nltk.NaiveBayesClassifier.train(train_set)\r\n",
    "print(nltk.classify.accuracy(classifier, test_set))"
   ],
   "metadata": {}
  },
  {
   "cell_type": "code",
   "execution_count": 261,
   "source": [
    "import pandas as pd\r\n"
   ],
   "outputs": [],
   "metadata": {}
  },
  {
   "cell_type": "code",
   "execution_count": 262,
   "source": [
    "ndf = pd.read_csv('file1.csv')\r\n",
    "ndf"
   ],
   "outputs": [
    {
     "output_type": "execute_result",
     "data": {
      "text/html": [
       "<div>\n",
       "<style scoped>\n",
       "    .dataframe tbody tr th:only-of-type {\n",
       "        vertical-align: middle;\n",
       "    }\n",
       "\n",
       "    .dataframe tbody tr th {\n",
       "        vertical-align: top;\n",
       "    }\n",
       "\n",
       "    .dataframe thead th {\n",
       "        text-align: right;\n",
       "    }\n",
       "</style>\n",
       "<table border=\"1\" class=\"dataframe\">\n",
       "  <thead>\n",
       "    <tr style=\"text-align: right;\">\n",
       "      <th></th>\n",
       "      <th>statement</th>\n",
       "      <th>type</th>\n",
       "    </tr>\n",
       "  </thead>\n",
       "  <tbody>\n",
       "    <tr>\n",
       "      <th>0</th>\n",
       "      <td>and confirm that address for me please</td>\n",
       "      <td>command</td>\n",
       "    </tr>\n",
       "    <tr>\n",
       "      <th>1</th>\n",
       "      <td>it's from Birmingham to em London Euston please</td>\n",
       "      <td>statement</td>\n",
       "    </tr>\n",
       "    <tr>\n",
       "      <th>2</th>\n",
       "      <td>the 8th of October</td>\n",
       "      <td>statement</td>\n",
       "    </tr>\n",
       "    <tr>\n",
       "      <th>3</th>\n",
       "      <td>i'd like to leave on the 7:33 train</td>\n",
       "      <td>statement</td>\n",
       "    </tr>\n",
       "    <tr>\n",
       "      <th>4</th>\n",
       "      <td>there's the 7:33 from Birmingham New Street</td>\n",
       "      <td>statement</td>\n",
       "    </tr>\n",
       "    <tr>\n",
       "      <th>...</th>\n",
       "      <td>...</td>\n",
       "      <td>...</td>\n",
       "    </tr>\n",
       "    <tr>\n",
       "      <th>210061</th>\n",
       "      <td>Come please</td>\n",
       "      <td>command</td>\n",
       "    </tr>\n",
       "    <tr>\n",
       "      <th>210062</th>\n",
       "      <td>Come on!</td>\n",
       "      <td>command</td>\n",
       "    </tr>\n",
       "    <tr>\n",
       "      <th>210063</th>\n",
       "      <td>Come on</td>\n",
       "      <td>command</td>\n",
       "    </tr>\n",
       "    <tr>\n",
       "      <th>210064</th>\n",
       "      <td>Don't eat so much.</td>\n",
       "      <td>command</td>\n",
       "    </tr>\n",
       "    <tr>\n",
       "      <th>210065</th>\n",
       "      <td>Dont eat so much.</td>\n",
       "      <td>command</td>\n",
       "    </tr>\n",
       "  </tbody>\n",
       "</table>\n",
       "<p>210066 rows × 2 columns</p>\n",
       "</div>"
      ],
      "text/plain": [
       "                                               statement       type\n",
       "0                and confirm that address for me please     command\n",
       "1       it's from Birmingham to em London Euston please   statement\n",
       "2                                    the 8th of October   statement\n",
       "3                   i'd like to leave on the 7:33 train   statement\n",
       "4           there's the 7:33 from Birmingham New Street   statement\n",
       "...                                                  ...        ...\n",
       "210061                                       Come please    command\n",
       "210062                                          Come on!    command\n",
       "210063                                           Come on    command\n",
       "210064                                Don't eat so much.    command\n",
       "210065                                 Dont eat so much.    command\n",
       "\n",
       "[210066 rows x 2 columns]"
      ]
     },
     "metadata": {},
     "execution_count": 262
    }
   ],
   "metadata": {}
  },
  {
   "cell_type": "code",
   "execution_count": 263,
   "source": [
    "ndf['type'] = [1 if t == 'question' else 0 for t in ndf['type']]\r\n",
    "ndf[ndf['type'] == 1].count()"
   ],
   "outputs": [
    {
     "output_type": "execute_result",
     "data": {
      "text/plain": [
       "statement    130655\n",
       "type         130655\n",
       "dtype: int64"
      ]
     },
     "metadata": {},
     "execution_count": 263
    }
   ],
   "metadata": {}
  },
  {
   "cell_type": "code",
   "execution_count": 283,
   "source": [
    "X_train, X_test, y_train, y_test = train_test_split(ndf['statement'], ndf['type'], test_size=0.2, random_state=0)\r\n",
    "\r\n",
    "ndf = pd.concat([X_train, y_train], axis=1)\r\n",
    "ndf.reset_index(drop=True, inplace=True)"
   ],
   "outputs": [],
   "metadata": {}
  },
  {
   "cell_type": "code",
   "execution_count": 284,
   "source": [
    "ndf"
   ],
   "outputs": [
    {
     "output_type": "execute_result",
     "data": {
      "text/html": [
       "<div>\n",
       "<style scoped>\n",
       "    .dataframe tbody tr th:only-of-type {\n",
       "        vertical-align: middle;\n",
       "    }\n",
       "\n",
       "    .dataframe tbody tr th {\n",
       "        vertical-align: top;\n",
       "    }\n",
       "\n",
       "    .dataframe thead th {\n",
       "        text-align: right;\n",
       "    }\n",
       "</style>\n",
       "<table border=\"1\" class=\"dataframe\">\n",
       "  <thead>\n",
       "    <tr style=\"text-align: right;\">\n",
       "      <th></th>\n",
       "      <th>statement</th>\n",
       "      <th>type</th>\n",
       "    </tr>\n",
       "  </thead>\n",
       "  <tbody>\n",
       "    <tr>\n",
       "      <th>0</th>\n",
       "      <td>certain armenians settled to sing non armenian...</td>\n",
       "      <td>0</td>\n",
       "    </tr>\n",
       "    <tr>\n",
       "      <th>1</th>\n",
       "      <td>however they too were eventually assimilated i...</td>\n",
       "      <td>0</td>\n",
       "    </tr>\n",
       "    <tr>\n",
       "      <th>2</th>\n",
       "      <td>the multidimensional pain inventory mpi is a q...</td>\n",
       "      <td>1</td>\n",
       "    </tr>\n",
       "    <tr>\n",
       "      <th>3</th>\n",
       "      <td>during what time was the cold war close to hap...</td>\n",
       "      <td>1</td>\n",
       "    </tr>\n",
       "    <tr>\n",
       "      <th>4</th>\n",
       "      <td>the west campus is located about one mile in w...</td>\n",
       "      <td>1</td>\n",
       "    </tr>\n",
       "    <tr>\n",
       "      <th>...</th>\n",
       "      <td>...</td>\n",
       "      <td>...</td>\n",
       "    </tr>\n",
       "    <tr>\n",
       "      <th>134436</th>\n",
       "      <td>on august windows was made available to downlo...</td>\n",
       "      <td>0</td>\n",
       "    </tr>\n",
       "    <tr>\n",
       "      <th>134437</th>\n",
       "      <td>when emperor haile selassie unilaterally disso...</td>\n",
       "      <td>1</td>\n",
       "    </tr>\n",
       "    <tr>\n",
       "      <th>134438</th>\n",
       "      <td>the compression works by reducing the accuracy...</td>\n",
       "      <td>1</td>\n",
       "    </tr>\n",
       "    <tr>\n",
       "      <th>134439</th>\n",
       "      <td>hunting is claimed to give resource managers a...</td>\n",
       "      <td>1</td>\n",
       "    </tr>\n",
       "    <tr>\n",
       "      <th>134440</th>\n",
       "      <td>how many mourners attended nasser s funeral</td>\n",
       "      <td>1</td>\n",
       "    </tr>\n",
       "  </tbody>\n",
       "</table>\n",
       "<p>134441 rows × 2 columns</p>\n",
       "</div>"
      ],
      "text/plain": [
       "                                                statement  type\n",
       "0       certain armenians settled to sing non armenian...     0\n",
       "1       however they too were eventually assimilated i...     0\n",
       "2       the multidimensional pain inventory mpi is a q...     1\n",
       "3       during what time was the cold war close to hap...     1\n",
       "4       the west campus is located about one mile in w...     1\n",
       "...                                                   ...   ...\n",
       "134436  on august windows was made available to downlo...     0\n",
       "134437  when emperor haile selassie unilaterally disso...     1\n",
       "134438  the compression works by reducing the accuracy...     1\n",
       "134439  hunting is claimed to give resource managers a...     1\n",
       "134440        how many mourners attended nasser s funeral     1\n",
       "\n",
       "[134441 rows x 2 columns]"
      ]
     },
     "metadata": {},
     "execution_count": 284
    }
   ],
   "metadata": {}
  },
  {
   "cell_type": "code",
   "execution_count": 285,
   "source": [
    "from sklearn.model_selection import train_test_split\r\n",
    "from sklearn.feature_extraction.text import CountVectorizer\r\n"
   ],
   "outputs": [],
   "metadata": {}
  },
  {
   "cell_type": "code",
   "execution_count": 286,
   "source": [
    "def sentence_transform(sentences):\r\n",
    "    nsentences = []\r\n",
    "    for sentence in sentences:\r\n",
    "        sentence = re.sub(\"[^a-zA-Z]\",\" \",sentence)\r\n",
    "\r\n",
    "        words = sentence.lower().split()\r\n",
    "\r\n",
    "        nsentences.append(\" \".join(words))\r\n",
    "    return nsentences\r\n",
    "\r\n",
    "ndf['statement'] = sentence_transform(ndf['statement'])"
   ],
   "outputs": [],
   "metadata": {}
  },
  {
   "cell_type": "code",
   "execution_count": 287,
   "source": [
    "ndf"
   ],
   "outputs": [
    {
     "output_type": "execute_result",
     "data": {
      "text/html": [
       "<div>\n",
       "<style scoped>\n",
       "    .dataframe tbody tr th:only-of-type {\n",
       "        vertical-align: middle;\n",
       "    }\n",
       "\n",
       "    .dataframe tbody tr th {\n",
       "        vertical-align: top;\n",
       "    }\n",
       "\n",
       "    .dataframe thead th {\n",
       "        text-align: right;\n",
       "    }\n",
       "</style>\n",
       "<table border=\"1\" class=\"dataframe\">\n",
       "  <thead>\n",
       "    <tr style=\"text-align: right;\">\n",
       "      <th></th>\n",
       "      <th>statement</th>\n",
       "      <th>type</th>\n",
       "    </tr>\n",
       "  </thead>\n",
       "  <tbody>\n",
       "    <tr>\n",
       "      <th>0</th>\n",
       "      <td>certain armenians settled to sing non armenian...</td>\n",
       "      <td>0</td>\n",
       "    </tr>\n",
       "    <tr>\n",
       "      <th>1</th>\n",
       "      <td>however they too were eventually assimilated i...</td>\n",
       "      <td>0</td>\n",
       "    </tr>\n",
       "    <tr>\n",
       "      <th>2</th>\n",
       "      <td>the multidimensional pain inventory mpi is a q...</td>\n",
       "      <td>1</td>\n",
       "    </tr>\n",
       "    <tr>\n",
       "      <th>3</th>\n",
       "      <td>during what time was the cold war close to hap...</td>\n",
       "      <td>1</td>\n",
       "    </tr>\n",
       "    <tr>\n",
       "      <th>4</th>\n",
       "      <td>the west campus is located about one mile in w...</td>\n",
       "      <td>1</td>\n",
       "    </tr>\n",
       "    <tr>\n",
       "      <th>...</th>\n",
       "      <td>...</td>\n",
       "      <td>...</td>\n",
       "    </tr>\n",
       "    <tr>\n",
       "      <th>134436</th>\n",
       "      <td>on august windows was made available to downlo...</td>\n",
       "      <td>0</td>\n",
       "    </tr>\n",
       "    <tr>\n",
       "      <th>134437</th>\n",
       "      <td>when emperor haile selassie unilaterally disso...</td>\n",
       "      <td>1</td>\n",
       "    </tr>\n",
       "    <tr>\n",
       "      <th>134438</th>\n",
       "      <td>the compression works by reducing the accuracy...</td>\n",
       "      <td>1</td>\n",
       "    </tr>\n",
       "    <tr>\n",
       "      <th>134439</th>\n",
       "      <td>hunting is claimed to give resource managers a...</td>\n",
       "      <td>1</td>\n",
       "    </tr>\n",
       "    <tr>\n",
       "      <th>134440</th>\n",
       "      <td>how many mourners attended nasser s funeral</td>\n",
       "      <td>1</td>\n",
       "    </tr>\n",
       "  </tbody>\n",
       "</table>\n",
       "<p>134441 rows × 2 columns</p>\n",
       "</div>"
      ],
      "text/plain": [
       "                                                statement  type\n",
       "0       certain armenians settled to sing non armenian...     0\n",
       "1       however they too were eventually assimilated i...     0\n",
       "2       the multidimensional pain inventory mpi is a q...     1\n",
       "3       during what time was the cold war close to hap...     1\n",
       "4       the west campus is located about one mile in w...     1\n",
       "...                                                   ...   ...\n",
       "134436  on august windows was made available to downlo...     0\n",
       "134437  when emperor haile selassie unilaterally disso...     1\n",
       "134438  the compression works by reducing the accuracy...     1\n",
       "134439  hunting is claimed to give resource managers a...     1\n",
       "134440        how many mourners attended nasser s funeral     1\n",
       "\n",
       "[134441 rows x 2 columns]"
      ]
     },
     "metadata": {},
     "execution_count": 287
    }
   ],
   "metadata": {}
  },
  {
   "cell_type": "code",
   "execution_count": null,
   "source": [],
   "outputs": [],
   "metadata": {}
  },
  {
   "cell_type": "code",
   "execution_count": 288,
   "source": [
    "vectorizer = CountVectorizer(analyzer='word',\r\n",
    "        lowercase=True,\r\n",
    "        tokenizer=None,\r\n",
    "        stop_words=None,\r\n",
    "        max_features=500,\r\n",
    "        ngram_range=(1,2))\r\n",
    "\r\n",
    "train_features = vectorizer.fit_transform(ndf['statement'])\r\n",
    "\r\n"
   ],
   "outputs": [],
   "metadata": {}
  },
  {
   "cell_type": "code",
   "execution_count": 289,
   "source": [
    "train_features = train_features.toarray()"
   ],
   "outputs": [],
   "metadata": {}
  },
  {
   "cell_type": "code",
   "execution_count": 290,
   "source": [
    "from sklearn.naive_bayes import MultinomialNB\r\n",
    "\r\n",
    "model = MultinomialNB(fit_prior=False,class_prior=None,alpha=0.5)\r\n"
   ],
   "outputs": [],
   "metadata": {}
  },
  {
   "cell_type": "code",
   "execution_count": 291,
   "source": [
    "model.fit(train_features, ndf['type'])\r\n"
   ],
   "outputs": [
    {
     "output_type": "execute_result",
     "data": {
      "text/plain": [
       "MultinomialNB(alpha=0.5, fit_prior=False)"
      ]
     },
     "metadata": {},
     "execution_count": 291
    }
   ],
   "metadata": {}
  },
  {
   "cell_type": "code",
   "execution_count": 292,
   "source": [
    "tdf = pd.concat([X_test, y_test], axis=1)\r\n",
    "tdf.reset_index(drop=True, inplace=True)\r\n",
    "\r\n",
    "tdf"
   ],
   "outputs": [
    {
     "output_type": "execute_result",
     "data": {
      "text/html": [
       "<div>\n",
       "<style scoped>\n",
       "    .dataframe tbody tr th:only-of-type {\n",
       "        vertical-align: middle;\n",
       "    }\n",
       "\n",
       "    .dataframe tbody tr th {\n",
       "        vertical-align: top;\n",
       "    }\n",
       "\n",
       "    .dataframe thead th {\n",
       "        text-align: right;\n",
       "    }\n",
       "</style>\n",
       "<table border=\"1\" class=\"dataframe\">\n",
       "  <thead>\n",
       "    <tr style=\"text-align: right;\">\n",
       "      <th></th>\n",
       "      <th>statement</th>\n",
       "      <th>type</th>\n",
       "    </tr>\n",
       "  </thead>\n",
       "  <tbody>\n",
       "    <tr>\n",
       "      <th>0</th>\n",
       "      <td>barcelona restored some pride by beating real ...</td>\n",
       "      <td>0</td>\n",
       "    </tr>\n",
       "    <tr>\n",
       "      <th>1</th>\n",
       "      <td>current publications in the city include the a...</td>\n",
       "      <td>1</td>\n",
       "    </tr>\n",
       "    <tr>\n",
       "      <th>2</th>\n",
       "      <td>with the exception of lehman these companies r...</td>\n",
       "      <td>0</td>\n",
       "    </tr>\n",
       "    <tr>\n",
       "      <th>3</th>\n",
       "      <td>mortality has decreased over the last few deca...</td>\n",
       "      <td>0</td>\n",
       "    </tr>\n",
       "    <tr>\n",
       "      <th>4</th>\n",
       "      <td>there is also a crown inside the q and the who...</td>\n",
       "      <td>0</td>\n",
       "    </tr>\n",
       "    <tr>\n",
       "      <th>...</th>\n",
       "      <td>...</td>\n",
       "      <td>...</td>\n",
       "    </tr>\n",
       "    <tr>\n",
       "      <th>33606</th>\n",
       "      <td>what large species of antelope once made its h...</td>\n",
       "      <td>1</td>\n",
       "    </tr>\n",
       "    <tr>\n",
       "      <th>33607</th>\n",
       "      <td>the golden boot is awarded to the top premier ...</td>\n",
       "      <td>1</td>\n",
       "    </tr>\n",
       "    <tr>\n",
       "      <th>33608</th>\n",
       "      <td>what actor performed the role of archie bunker</td>\n",
       "      <td>1</td>\n",
       "    </tr>\n",
       "    <tr>\n",
       "      <th>33609</th>\n",
       "      <td>a typical pommel horse exercise involves both ...</td>\n",
       "      <td>1</td>\n",
       "    </tr>\n",
       "    <tr>\n",
       "      <th>33610</th>\n",
       "      <td>the area s many universities and colleges make...</td>\n",
       "      <td>0</td>\n",
       "    </tr>\n",
       "  </tbody>\n",
       "</table>\n",
       "<p>33611 rows × 2 columns</p>\n",
       "</div>"
      ],
      "text/plain": [
       "                                               statement  type\n",
       "0      barcelona restored some pride by beating real ...     0\n",
       "1      current publications in the city include the a...     1\n",
       "2      with the exception of lehman these companies r...     0\n",
       "3      mortality has decreased over the last few deca...     0\n",
       "4      there is also a crown inside the q and the who...     0\n",
       "...                                                  ...   ...\n",
       "33606  what large species of antelope once made its h...     1\n",
       "33607  the golden boot is awarded to the top premier ...     1\n",
       "33608     what actor performed the role of archie bunker     1\n",
       "33609  a typical pommel horse exercise involves both ...     1\n",
       "33610  the area s many universities and colleges make...     0\n",
       "\n",
       "[33611 rows x 2 columns]"
      ]
     },
     "metadata": {},
     "execution_count": 292
    }
   ],
   "metadata": {}
  },
  {
   "cell_type": "code",
   "execution_count": 293,
   "source": [
    "test_transform = vectorizer.transform(tdf['statement'])\r\n",
    "\r\n",
    "test_transform = test_transform.toarray()\r\n",
    "predict = model.predict(test_transform)\r\n",
    "\r\n"
   ],
   "outputs": [],
   "metadata": {}
  },
  {
   "cell_type": "code",
   "execution_count": 294,
   "source": [
    "from sklearn.metrics import classification_report\r\n",
    "\r\n",
    "classification_report(predict , y_test)"
   ],
   "outputs": [
    {
     "output_type": "execute_result",
     "data": {
      "text/plain": [
       "'              precision    recall  f1-score   support\\n\\n           0       0.92      0.82      0.87     14330\\n           1       0.88      0.95      0.91     19281\\n\\n    accuracy                           0.90     33611\\n   macro avg       0.90      0.89      0.89     33611\\nweighted avg       0.90      0.90      0.90     33611\\n'"
      ]
     },
     "metadata": {},
     "execution_count": 294
    }
   ],
   "metadata": {}
  },
  {
   "cell_type": "code",
   "execution_count": 295,
   "source": [
    "predict = predict.tolist()"
   ],
   "outputs": [],
   "metadata": {}
  },
  {
   "cell_type": "code",
   "execution_count": 296,
   "source": [
    "tdf['ptype'] = predict"
   ],
   "outputs": [],
   "metadata": {}
  },
  {
   "cell_type": "code",
   "execution_count": 297,
   "source": [
    "tdf"
   ],
   "outputs": [
    {
     "output_type": "execute_result",
     "data": {
      "text/html": [
       "<div>\n",
       "<style scoped>\n",
       "    .dataframe tbody tr th:only-of-type {\n",
       "        vertical-align: middle;\n",
       "    }\n",
       "\n",
       "    .dataframe tbody tr th {\n",
       "        vertical-align: top;\n",
       "    }\n",
       "\n",
       "    .dataframe thead th {\n",
       "        text-align: right;\n",
       "    }\n",
       "</style>\n",
       "<table border=\"1\" class=\"dataframe\">\n",
       "  <thead>\n",
       "    <tr style=\"text-align: right;\">\n",
       "      <th></th>\n",
       "      <th>statement</th>\n",
       "      <th>type</th>\n",
       "      <th>ptype</th>\n",
       "    </tr>\n",
       "  </thead>\n",
       "  <tbody>\n",
       "    <tr>\n",
       "      <th>0</th>\n",
       "      <td>barcelona restored some pride by beating real ...</td>\n",
       "      <td>0</td>\n",
       "      <td>0</td>\n",
       "    </tr>\n",
       "    <tr>\n",
       "      <th>1</th>\n",
       "      <td>current publications in the city include the a...</td>\n",
       "      <td>1</td>\n",
       "      <td>0</td>\n",
       "    </tr>\n",
       "    <tr>\n",
       "      <th>2</th>\n",
       "      <td>with the exception of lehman these companies r...</td>\n",
       "      <td>0</td>\n",
       "      <td>0</td>\n",
       "    </tr>\n",
       "    <tr>\n",
       "      <th>3</th>\n",
       "      <td>mortality has decreased over the last few deca...</td>\n",
       "      <td>0</td>\n",
       "      <td>0</td>\n",
       "    </tr>\n",
       "    <tr>\n",
       "      <th>4</th>\n",
       "      <td>there is also a crown inside the q and the who...</td>\n",
       "      <td>0</td>\n",
       "      <td>0</td>\n",
       "    </tr>\n",
       "    <tr>\n",
       "      <th>...</th>\n",
       "      <td>...</td>\n",
       "      <td>...</td>\n",
       "      <td>...</td>\n",
       "    </tr>\n",
       "    <tr>\n",
       "      <th>33606</th>\n",
       "      <td>what large species of antelope once made its h...</td>\n",
       "      <td>1</td>\n",
       "      <td>1</td>\n",
       "    </tr>\n",
       "    <tr>\n",
       "      <th>33607</th>\n",
       "      <td>the golden boot is awarded to the top premier ...</td>\n",
       "      <td>1</td>\n",
       "      <td>0</td>\n",
       "    </tr>\n",
       "    <tr>\n",
       "      <th>33608</th>\n",
       "      <td>what actor performed the role of archie bunker</td>\n",
       "      <td>1</td>\n",
       "      <td>1</td>\n",
       "    </tr>\n",
       "    <tr>\n",
       "      <th>33609</th>\n",
       "      <td>a typical pommel horse exercise involves both ...</td>\n",
       "      <td>1</td>\n",
       "      <td>1</td>\n",
       "    </tr>\n",
       "    <tr>\n",
       "      <th>33610</th>\n",
       "      <td>the area s many universities and colleges make...</td>\n",
       "      <td>0</td>\n",
       "      <td>0</td>\n",
       "    </tr>\n",
       "  </tbody>\n",
       "</table>\n",
       "<p>33611 rows × 3 columns</p>\n",
       "</div>"
      ],
      "text/plain": [
       "                                               statement  type  ptype\n",
       "0      barcelona restored some pride by beating real ...     0      0\n",
       "1      current publications in the city include the a...     1      0\n",
       "2      with the exception of lehman these companies r...     0      0\n",
       "3      mortality has decreased over the last few deca...     0      0\n",
       "4      there is also a crown inside the q and the who...     0      0\n",
       "...                                                  ...   ...    ...\n",
       "33606  what large species of antelope once made its h...     1      1\n",
       "33607  the golden boot is awarded to the top premier ...     1      0\n",
       "33608     what actor performed the role of archie bunker     1      1\n",
       "33609  a typical pommel horse exercise involves both ...     1      1\n",
       "33610  the area s many universities and colleges make...     0      0\n",
       "\n",
       "[33611 rows x 3 columns]"
      ]
     },
     "metadata": {},
     "execution_count": 297
    }
   ],
   "metadata": {}
  },
  {
   "cell_type": "code",
   "execution_count": null,
   "source": [],
   "outputs": [],
   "metadata": {}
  },
  {
   "cell_type": "code",
   "execution_count": 299,
   "source": [
    "file = open(\"text.txt\", \"r\")\r\n",
    "sentences = file.readlines()\r\n",
    "sentences = [sentence.strip() for sentence in sentences]\r\n",
    "\r\n",
    "df = pd.DataFrame(sentences, columns=['sentence'])"
   ],
   "outputs": [],
   "metadata": {}
  },
  {
   "cell_type": "code",
   "execution_count": 300,
   "source": [
    "test_transform = vectorizer.transform(df['sentence'])\r\n",
    "\r\n",
    "test_transform = test_transform.toarray()\r\n",
    "predict = model.predict(test_transform)\r\n",
    "\r\n"
   ],
   "outputs": [],
   "metadata": {}
  },
  {
   "cell_type": "code",
   "execution_count": 301,
   "source": [
    "predict = model.predict(test_transform)"
   ],
   "outputs": [],
   "metadata": {}
  },
  {
   "cell_type": "code",
   "execution_count": 302,
   "source": [
    "df['type'] = predict\r\n",
    "df"
   ],
   "outputs": [
    {
     "output_type": "execute_result",
     "data": {
      "text/html": [
       "<div>\n",
       "<style scoped>\n",
       "    .dataframe tbody tr th:only-of-type {\n",
       "        vertical-align: middle;\n",
       "    }\n",
       "\n",
       "    .dataframe tbody tr th {\n",
       "        vertical-align: top;\n",
       "    }\n",
       "\n",
       "    .dataframe thead th {\n",
       "        text-align: right;\n",
       "    }\n",
       "</style>\n",
       "<table border=\"1\" class=\"dataframe\">\n",
       "  <thead>\n",
       "    <tr style=\"text-align: right;\">\n",
       "      <th></th>\n",
       "      <th>sentence</th>\n",
       "      <th>type</th>\n",
       "    </tr>\n",
       "  </thead>\n",
       "  <tbody>\n",
       "    <tr>\n",
       "      <th>0</th>\n",
       "      <td>hindi movies for adults</td>\n",
       "      <td>0</td>\n",
       "    </tr>\n",
       "    <tr>\n",
       "      <th>1</th>\n",
       "      <td>are panda dogs real</td>\n",
       "      <td>1</td>\n",
       "    </tr>\n",
       "    <tr>\n",
       "      <th>2</th>\n",
       "      <td>asuedraw winning numbers</td>\n",
       "      <td>0</td>\n",
       "    </tr>\n",
       "    <tr>\n",
       "      <th>3</th>\n",
       "      <td>sentry replacement keys</td>\n",
       "      <td>0</td>\n",
       "    </tr>\n",
       "    <tr>\n",
       "      <th>4</th>\n",
       "      <td>rebuilding nicad battery packs</td>\n",
       "      <td>0</td>\n",
       "    </tr>\n",
       "    <tr>\n",
       "      <th>...</th>\n",
       "      <td>...</td>\n",
       "      <td>...</td>\n",
       "    </tr>\n",
       "    <tr>\n",
       "      <th>9988</th>\n",
       "      <td>sjogren syndrome pictures</td>\n",
       "      <td>0</td>\n",
       "    </tr>\n",
       "    <tr>\n",
       "      <th>9989</th>\n",
       "      <td>how do you renew a passport</td>\n",
       "      <td>1</td>\n",
       "    </tr>\n",
       "    <tr>\n",
       "      <th>9990</th>\n",
       "      <td>medellin dim</td>\n",
       "      <td>0</td>\n",
       "    </tr>\n",
       "    <tr>\n",
       "      <th>9991</th>\n",
       "      <td>concursos funcab</td>\n",
       "      <td>0</td>\n",
       "    </tr>\n",
       "    <tr>\n",
       "      <th>9992</th>\n",
       "      <td>jogo de cidades</td>\n",
       "      <td>0</td>\n",
       "    </tr>\n",
       "  </tbody>\n",
       "</table>\n",
       "<p>9993 rows × 2 columns</p>\n",
       "</div>"
      ],
      "text/plain": [
       "                            sentence  type\n",
       "0            hindi movies for adults     0\n",
       "1                are panda dogs real     1\n",
       "2           asuedraw winning numbers     0\n",
       "3            sentry replacement keys     0\n",
       "4     rebuilding nicad battery packs     0\n",
       "...                              ...   ...\n",
       "9988       sjogren syndrome pictures     0\n",
       "9989     how do you renew a passport     1\n",
       "9990                    medellin dim     0\n",
       "9991                concursos funcab     0\n",
       "9992                 jogo de cidades     0\n",
       "\n",
       "[9993 rows x 2 columns]"
      ]
     },
     "metadata": {},
     "execution_count": 302
    }
   ],
   "metadata": {}
  },
  {
   "cell_type": "code",
   "execution_count": 303,
   "source": [
    "df[df['type'] == 1].count()"
   ],
   "outputs": [
    {
     "output_type": "execute_result",
     "data": {
      "text/plain": [
       "sentence    1523\n",
       "type        1523\n",
       "dtype: int64"
      ]
     },
     "metadata": {},
     "execution_count": 303
    }
   ],
   "metadata": {}
  },
  {
   "cell_type": "code",
   "execution_count": 312,
   "source": [
    "import pickle \r\n",
    "pickle.dump(model, open('model.pkl','wb'))"
   ],
   "outputs": [],
   "metadata": {}
  },
  {
   "cell_type": "code",
   "execution_count": null,
   "source": [],
   "outputs": [],
   "metadata": {}
  }
 ],
 "metadata": {
  "orig_nbformat": 4,
  "language_info": {
   "name": "python",
   "version": "3.8.8",
   "mimetype": "text/x-python",
   "codemirror_mode": {
    "name": "ipython",
    "version": 3
   },
   "pygments_lexer": "ipython3",
   "nbconvert_exporter": "python",
   "file_extension": ".py"
  },
  "kernelspec": {
   "name": "python3",
   "display_name": "Python 3.8.8 64-bit ('base2': conda)"
  },
  "interpreter": {
   "hash": "489526c2b17d38ef522bf41727fb119e984be04974d33c34ade91f0c9f1f8094"
  }
 },
 "nbformat": 4,
 "nbformat_minor": 2
}